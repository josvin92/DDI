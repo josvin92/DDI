{
  "nbformat": 4,
  "nbformat_minor": 0,
  "metadata": {
    "colab": {
      "name": "Copy of DDI_landing_example_2.ipynb",
      "provenance": [],
      "collapsed_sections": [],
      "include_colab_link": true
    },
    "kernelspec": {
      "name": "python3",
      "display_name": "Python 3"
    }
  },
  "cells": [
    {
      "cell_type": "markdown",
      "metadata": {
        "id": "view-in-github",
        "colab_type": "text"
      },
      "source": [
        "<a href=\"https://colab.research.google.com/github/josvin92/DS501/blob/master/Copy_of_DDI_landing_example_2.ipynb\" target=\"_parent\"><img src=\"https://colab.research.google.com/assets/colab-badge.svg\" alt=\"Open In Colab\"/></a>"
      ]
    },
    {
      "cell_type": "markdown",
      "metadata": {
        "id": "oZQ6tSNDGG0X",
        "colab_type": "text"
      },
      "source": [
        "Question from <a href=\"https://www.interviewqs.com\">Data Interview Qs</a> - sign up to receive a few DS questions/week via email."
      ]
    },
    {
      "cell_type": "markdown",
      "metadata": {
        "id": "L6gxnICOGbY7",
        "colab_type": "text"
      },
      "source": [
        "\n",
        "\n",
        "---\n",
        "\n"
      ]
    },
    {
      "cell_type": "markdown",
      "metadata": {
        "id": "lAO1SIUeBtWI",
        "colab_type": "text"
      },
      "source": [
        "Suppose you have a dataframe, df, with the following records:"
      ]
    },
    {
      "cell_type": "code",
      "metadata": {
        "id": "B2wW8TgYrfja",
        "colab_type": "code",
        "outputId": "92c927a2-bed6-4f05-fd49-f3f23c384edb",
        "colab": {
          "base_uri": "https://localhost:8080/",
          "height": 173
        }
      },
      "source": [
        "import pandas as pd\n",
        "\n",
        "raw_data = {'name': ['Willard Morris', 'Al Jennings', 'Omar Mullins', 'Spencer McDaniel'],\n",
        "                'age': [20, 19, 22, 21],\n",
        "                'favorite_color': ['blue', 'blue', 'yellow', \"green\"],\n",
        "                'grade': [88, 92, 95, 70]}\n",
        "\n",
        "df = pd.DataFrame(raw_data)\n",
        "df.head()"
      ],
      "execution_count": 0,
      "outputs": [
        {
          "output_type": "execute_result",
          "data": {
            "text/html": [
              "<div>\n",
              "<style scoped>\n",
              "    .dataframe tbody tr th:only-of-type {\n",
              "        vertical-align: middle;\n",
              "    }\n",
              "\n",
              "    .dataframe tbody tr th {\n",
              "        vertical-align: top;\n",
              "    }\n",
              "\n",
              "    .dataframe thead th {\n",
              "        text-align: right;\n",
              "    }\n",
              "</style>\n",
              "<table border=\"1\" class=\"dataframe\">\n",
              "  <thead>\n",
              "    <tr style=\"text-align: right;\">\n",
              "      <th></th>\n",
              "      <th>age</th>\n",
              "      <th>favorite_color</th>\n",
              "      <th>grade</th>\n",
              "      <th>name</th>\n",
              "    </tr>\n",
              "  </thead>\n",
              "  <tbody>\n",
              "    <tr>\n",
              "      <th>0</th>\n",
              "      <td>20</td>\n",
              "      <td>blue</td>\n",
              "      <td>88</td>\n",
              "      <td>Willard Morris</td>\n",
              "    </tr>\n",
              "    <tr>\n",
              "      <th>1</th>\n",
              "      <td>19</td>\n",
              "      <td>blue</td>\n",
              "      <td>92</td>\n",
              "      <td>Al Jennings</td>\n",
              "    </tr>\n",
              "    <tr>\n",
              "      <th>2</th>\n",
              "      <td>22</td>\n",
              "      <td>yellow</td>\n",
              "      <td>95</td>\n",
              "      <td>Omar Mullins</td>\n",
              "    </tr>\n",
              "    <tr>\n",
              "      <th>3</th>\n",
              "      <td>21</td>\n",
              "      <td>green</td>\n",
              "      <td>70</td>\n",
              "      <td>Spencer McDaniel</td>\n",
              "    </tr>\n",
              "  </tbody>\n",
              "</table>\n",
              "</div>"
            ],
            "text/plain": [
              "   age favorite_color  grade              name\n",
              "0   20           blue     88    Willard Morris\n",
              "1   19           blue     92       Al Jennings\n",
              "2   22         yellow     95      Omar Mullins\n",
              "3   21          green     70  Spencer McDaniel"
            ]
          },
          "metadata": {
            "tags": []
          },
          "execution_count": 1
        }
      ]
    },
    {
      "cell_type": "markdown",
      "metadata": {
        "id": "uwIlgOslrlmX",
        "colab_type": "text"
      },
      "source": [
        "The dataframe is showing information about students. Write code using Python Pandas to select the rows where the students' favorite color is blue or yellow and their grade is above 90.\n",
        "\n",
        "---\n",
        "\n"
      ]
    },
    {
      "cell_type": "markdown",
      "metadata": {
        "id": "NIqbT2xgC4eD",
        "colab_type": "text"
      },
      "source": [
        "**Solution**:"
      ]
    },
    {
      "cell_type": "code",
      "metadata": {
        "id": "dx_S2L6rP-ix",
        "colab_type": "code",
        "outputId": "1a819b4d-649c-4b1b-cb18-668c55a723f5",
        "colab": {
          "base_uri": "https://localhost:8080/",
          "height": 111
        }
      },
      "source": [
        "#define array of target colors\n",
        "fav_color_filter = ['blue', 'yellow']\n",
        "#To select rows whose column value is in an iterable array, which we defined as fav_color_filter, we can use isin\n",
        "df = df.loc[df['favorite_color'].isin(fav_color_filter)]\n",
        "#next, we need to filter on scores above 90. here we can use loc on our dataframe:\n",
        "df = df.loc[(df['grade'] >= 90)]\n",
        "\n",
        "#As we can see the resultant dataframe returns \n",
        "#the records with students who have the favorite color blue or yellow as well as a grade >=90.\n",
        "df.head()"
      ],
      "execution_count": 0,
      "outputs": [
        {
          "output_type": "execute_result",
          "data": {
            "text/html": [
              "<div>\n",
              "<style scoped>\n",
              "    .dataframe tbody tr th:only-of-type {\n",
              "        vertical-align: middle;\n",
              "    }\n",
              "\n",
              "    .dataframe tbody tr th {\n",
              "        vertical-align: top;\n",
              "    }\n",
              "\n",
              "    .dataframe thead th {\n",
              "        text-align: right;\n",
              "    }\n",
              "</style>\n",
              "<table border=\"1\" class=\"dataframe\">\n",
              "  <thead>\n",
              "    <tr style=\"text-align: right;\">\n",
              "      <th></th>\n",
              "      <th>age</th>\n",
              "      <th>favorite_color</th>\n",
              "      <th>grade</th>\n",
              "      <th>name</th>\n",
              "    </tr>\n",
              "  </thead>\n",
              "  <tbody>\n",
              "    <tr>\n",
              "      <th>1</th>\n",
              "      <td>19</td>\n",
              "      <td>blue</td>\n",
              "      <td>92</td>\n",
              "      <td>Al Jennings</td>\n",
              "    </tr>\n",
              "    <tr>\n",
              "      <th>2</th>\n",
              "      <td>22</td>\n",
              "      <td>yellow</td>\n",
              "      <td>95</td>\n",
              "      <td>Omar Mullins</td>\n",
              "    </tr>\n",
              "  </tbody>\n",
              "</table>\n",
              "</div>"
            ],
            "text/plain": [
              "   age favorite_color  grade          name\n",
              "1   19           blue     92   Al Jennings\n",
              "2   22         yellow     95  Omar Mullins"
            ]
          },
          "metadata": {
            "tags": []
          },
          "execution_count": 2
        }
      ]
    }
  ]
}